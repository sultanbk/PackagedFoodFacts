{
 "cells": [
  {
   "cell_type": "markdown",
   "id": "4413f84e-4868-4a7e-8927-a39a4fdc2c13",
   "metadata": {},
   "source": [
    "# OpenFoodFacts(OFF) Dataset Cleaning"
   ]
  },
  {
   "cell_type": "code",
   "execution_count": null,
   "id": "84162065-ffec-4c38-8e1b-3f3b8026462a",
   "metadata": {},
   "outputs": [],
   "source": [
    "import pandas as pd"
   ]
  },
  {
   "cell_type": "code",
   "execution_count": null,
   "id": "d7071192-8452-4d14-b04c-2a03e041d894",
   "metadata": {},
   "outputs": [],
   "source": [
    "import pandas as pd\n",
    "\n",
    "try:\n",
    "    # Load the CSV file with a tab delimiter and set low_memory to False\n",
    "    data = pd.read_csv('openfoodfacts_export_c.csv', sep='\\t', low_memory=False)\n",
    "\n",
    "    print(data.head())\n",
    "except pd.errors.ParserError as e:\n",
    "    print(f\"ParserError: {e}\")\n",
    "except FileNotFoundError as e:\n",
    "    print(f\"FileNotFoundError: {e}\")\n",
    "except Exception as e:\n",
    "    print(f\"An error occurred: {e}\")\n"
   ]
  },
  {
   "cell_type": "code",
   "execution_count": 3,
   "id": "be7c3782-1bba-4e3a-96d1-506cb15b24e3",
   "metadata": {},
   "outputs": [],
   "source": [
    "extra_product_names = ['product_name_aa','product_name_am','product_name_ar','product_name_bn','product_name_ca','product_name_de','product_name_el','product_name_es','product_name_eo','product_name_et','product_name_fa','product_name_fi','product_name_fr','product_name_gu','product_name_he','product_name_hi','product_name_hu','product_name_id','product_name_in','product_name_it','product_name_kn','product_name_ml','product_name_mr','product_name_nb','product_name_ne','product_name_nl','product_name_pl','product_name_pt','product_name_ru','product_name_te','product_name_th','product_name_xx']\n",
    "data[extra_product_names].isnull().sum()\n",
    "data.drop(extra_product_names, axis=1, inplace = True)"
   ]
  },
  {
   "cell_type": "code",
   "execution_count": 4,
   "id": "82d2a7ba-641d-466c-abb9-b90ca5e44d1c",
   "metadata": {},
   "outputs": [],
   "source": [
    "extra_generic_names = ['generic_name_bg','generic_name_da','generic_name_de','generic_name_es','generic_name_et','generic_name_fr','generic_name_hi','generic_name_hr','generic_name_hu','generic_name_lt','generic_name_nl','generic_name_pl','generic_name_ro','generic_name_sl','generic_name_sr']\n",
    "data[extra_generic_names].isnull().sum()\n",
    "data.drop(extra_generic_names,axis=1,inplace = True)"
   ]
  },
  {
   "cell_type": "code",
   "execution_count": null,
   "id": "f0f70547-69e2-40bb-97b8-c948615f6aa5",
   "metadata": {
    "scrolled": true
   },
   "outputs": [],
   "source": [
    "extra_ingredients = ['ingredients_text_bg','ingredients_text_ar','ingredients_text_de','ingredients_text_el','ingredients_text_es','ingredients_text_et','ingredients_text_fr','ingredients_text_gu','ingredients_text_hi','ingredients_text_hr','ingredients_text_hu','ingredients_text_id','ingredients_text_it','ingredients_text_lt','ingredients_text_nl','ingredients_text_pl','ingredients_text_ro','ingredients_text_sl','ingredients_text_sr','ingredients_text_te','ingredients_text_th']\n",
    "data[extra_ingredients].isnull().sum()\n",
    "data.drop(extra_ingredients, axis = 1, inplace = True)"
   ]
  },
  {
   "cell_type": "code",
   "execution_count": 5,
   "id": "69754bb6-66f9-4718-9729-0ff211751c3e",
   "metadata": {},
   "outputs": [],
   "source": [
    "extra_prepared_values = ['energy-kj_prepared_value','energy-kj_prepared_unit','energy-kcal_prepared_value','energy-kcal_prepared_unit','fat_prepared_unit','fat_prepared_value','saturated-fat_prepared_value','saturated-fat_prepared_unit','carbohydrates_prepared_unit','carbohydrates_prepared_value','sugars_prepared_value','sugars_prepared_unit','fiber_prepared_value','fiber_prepared_unit','proteins_prepared_value','proteins_prepared_unit','sodium_prepared_value','sodium_prepared_unit','salt_prepared_value','salt_prepared_unit','alcohol_prepared_value','alcohol_prepared_unit','energy_prepared_value','energy_prepared_unit']\n",
    "data[extra_prepared_values].isnull().sum()\n",
    "data.drop(extra_prepared_values, axis = 1, inplace = True)"
   ]
  },
  {
   "cell_type": "code",
   "execution_count": 6,
   "id": "b9bc9858-699a-4d41-afb8-83d5f1e1b977",
   "metadata": {},
   "outputs": [],
   "source": [
    "extra_attributes = ['brand_owner','stores','stores_tags','origins_tags','brand_owner','packaging','packaging_tags','obsolete_since_date','origin_as','origin_fr','emb_codes','traces','traces_tags']\n",
    "data[extra_attributes].isnull().sum()\n",
    "data.drop(extra_attributes,axis = 1, inplace = True)"
   ]
  },
  {
   "cell_type": "code",
   "execution_count": 7,
   "id": "f7938801-08a4-4707-8826-6aa2fd757785",
   "metadata": {},
   "outputs": [],
   "source": [
    "extra_sources = ['sources_fields:org-gs1:publicationDateTime','sources_fields:org-gs1:productionVariantDescription','sources_fields:org-gs1:partyName','sources_fields:org-gs1:lastChangeDateTime','sources_fields:org-gs1:isAllergenRelevantDataProvided','sources_fields:org-gs1:gpcCategoryName','sources_fields:org-gs1:gpcCategoryCode','sources_fields:org-gs1:gln','sources_fields:org-database-usda:publication_date','sources_fields:org-database-usda:modified_date','sources_fields:org-database-usda:fdc_id','sources_fields:org-database-usda:fdc_data_source','sources_fields:org-database-usda:fdc_category','sources_fields:org-database-usda:available_date']\n",
    "data[extra_sources].isnull().sum()\n",
    "data.drop(extra_sources, axis = 1, inplace = True)"
   ]
  },
  {
   "cell_type": "code",
   "execution_count": 8,
   "id": "394a618c-ee8b-4330-80be-a9aecce2f4cf",
   "metadata": {},
   "outputs": [],
   "source": [
    "data['product_name_en'].isnull().sum()\n",
    "data = data.dropna(subset=['product_name_en'])"
   ]
  },
  {
   "cell_type": "code",
   "execution_count": 9,
   "id": "bd429741-8992-4c66-bc17-a72c174d266e",
   "metadata": {},
   "outputs": [
    {
     "data": {
      "text/plain": [
       "(5574, 302)"
      ]
     },
     "execution_count": 9,
     "metadata": {},
     "output_type": "execute_result"
    }
   ],
   "source": [
    "data.shape"
   ]
  },
  {
   "cell_type": "code",
   "execution_count": null,
   "id": "cf066a87-d588-46ec-a809-20c0bf0a43e2",
   "metadata": {},
   "outputs": [],
   "source": [
    "#data.to_csv('cleaned_data2.csv', index = False)"
   ]
  },
  {
   "cell_type": "code",
   "execution_count": 10,
   "id": "1bb981ea-0cb4-4c84-8d45-8cfc60611085",
   "metadata": {},
   "outputs": [
    {
     "data": {
      "text/plain": [
       "5437"
      ]
     },
     "execution_count": 10,
     "metadata": {},
     "output_type": "execute_result"
    }
   ],
   "source": [
    "data['monounsaturated-fat_value'].isnull().sum()"
   ]
  },
  {
   "cell_type": "code",
   "execution_count": null,
   "id": "89cc50cd",
   "metadata": {},
   "outputs": [],
   "source": []
  }
 ],
 "metadata": {
  "kernelspec": {
   "display_name": "Python 3 (ipykernel)",
   "language": "python",
   "name": "python3"
  },
  "language_info": {
   "codemirror_mode": {
    "name": "ipython",
    "version": 3
   },
   "file_extension": ".py",
   "mimetype": "text/x-python",
   "name": "python",
   "nbconvert_exporter": "python",
   "pygments_lexer": "ipython3",
   "version": "3.11.9"
  }
 },
 "nbformat": 4,
 "nbformat_minor": 5
}
