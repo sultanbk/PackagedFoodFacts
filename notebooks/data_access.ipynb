{
 "cells": [
  {
   "cell_type": "code",
   "execution_count": 4,
   "id": "333202b1-a606-4328-8555-ff299d1b3812",
   "metadata": {},
   "outputs": [],
   "source": [
    "import pandas as pd\n",
    "from tabulate import tabulate"
   ]
  },
  {
   "cell_type": "code",
   "execution_count": null,
   "id": "3f033761",
   "metadata": {},
   "outputs": [],
   "source": [
    "file_path = 'cleaned_data4.csv'\n",
    "df = pd.read_csv(file_path, low_memory = False)"
   ]
  },
  {
   "cell_type": "code",
   "execution_count": 11,
   "id": "8fde121a",
   "metadata": {},
   "outputs": [],
   "source": [
    "def get_product(df, code):\n",
    "    product = df[df['code'] == code]\n",
    "    if product.empty:\n",
    "        return None\n",
    "    product = product.dropna(axis=1, how='all')\n",
    "    return product\n",
    "\n",
    "barcode = '8901764042270'\n",
    "product_info = get_product(df, barcode)\n"
   ]
  },
  {
   "cell_type": "code",
   "execution_count": 12,
   "id": "e5f24fb6",
   "metadata": {},
   "outputs": [
    {
     "name": "stdout",
     "output_type": "stream",
     "text": [
      "Product Information:\n",
      "+---------------+-------------------+------------+----------------+-------------------+----------------------------------------------------------+----------------------+--------------------------------------------------------------------------------------------------------------------------------------------------------------------------------------------------------+----------------------+-------------------------------+---------------------+--------------------+-------------+------------+-----------------------+----------------------+-----------------------+----------------------+----------------+---------------+------------------+-----------------+--------------+-------------+----------------+---------------+----------------+---------------+------------------------+-------------------------------------+------------------------+------------------------+----------------------+\n",
      "|          code | product_name_en   |   quantity | serving_size   | brands            | categories                                               | countries            | ingredients_text_en                                                                                                                                                                                    | nutrition_data_per   | nutrition_data_prepared_per   |   energy-kcal_value | energy-kcal_unit   |   fat_value | fat_unit   |   saturated-fat_value | saturated-fat_unit   |   carbohydrates_value | carbohydrates_unit   |   sugars_value | sugars_unit   |   proteins_value | proteins_unit   |   salt_value | salt_unit   |   sodium_value | sodium_unit   |   energy_value | energy_unit   | off:food_groups        | off:food_groups_tags                | off:nutriscore_grade   |   off:nutriscore_score | off:ecoscore_grade   |\n",
      "|---------------+-------------------+------------+----------------+-------------------+----------------------------------------------------------+----------------------+--------------------------------------------------------------------------------------------------------------------------------------------------------------------------------------------------------+----------------------+-------------------------------+---------------------+--------------------+-------------+------------+-----------------------+----------------------+-----------------------+----------------------+----------------+---------------+------------------+-----------------+--------------+-------------+----------------+---------------+----------------+---------------+------------------------+-------------------------------------+------------------------+------------------------+----------------------|\n",
      "| 8901764042270 | Thumbs Up 750ml   |         24 | 100ml          | Coca Cola Company | Beverages, Carbonated drinks, Sodas, Sweetened beverages | India, United States | CARBONATED WATER, SUGAR, ACIDITY REGULATOR (338), CAFFEINE (8.3 mg/100 g), COLOUR (1506) FLAVOURS (NATURAL, NATURE-IDENTICAL & ARTIFICIAL (COLA) FLAVOURING SUBSTANCES). &quot;CONTAINS CAFFEINE&quot; | serving              | 100g                          |                  36 | kcal               |           0 | g          |                     0 | g                    |                     9 | g                    |              9 | g             |                0 | g               |            0 | g           |              0 | g             |             36 | kcal          | en:sweetened-beverages | en:beverages,en:sweetened-beverages | e                      |                     12 | not-applicable       |\n",
      "+---------------+-------------------+------------+----------------+-------------------+----------------------------------------------------------+----------------------+--------------------------------------------------------------------------------------------------------------------------------------------------------------------------------------------------------+----------------------+-------------------------------+---------------------+--------------------+-------------+------------+-----------------------+----------------------+-----------------------+----------------------+----------------+---------------+------------------+-----------------+--------------+-------------+----------------+---------------+----------------+---------------+------------------------+-------------------------------------+------------------------+------------------------+----------------------+\n"
     ]
    }
   ],
   "source": [
    "if product_info is not None and not product_info.empty:\n",
    "    print(\"Product Information:\")\n",
    "    print(tabulate(product_info, headers='keys', tablefmt='psql', showindex=False))\n",
    "else:\n",
    "    print(\"Product not found.\")"
   ]
  },
  {
   "cell_type": "code",
   "execution_count": null,
   "id": "61f174a5",
   "metadata": {},
   "outputs": [],
   "source": []
  }
 ],
 "metadata": {
  "kernelspec": {
   "display_name": "Python 3 (ipykernel)",
   "language": "python",
   "name": "python3"
  },
  "language_info": {
   "codemirror_mode": {
    "name": "ipython",
    "version": 3
   },
   "file_extension": ".py",
   "mimetype": "text/x-python",
   "name": "python",
   "nbconvert_exporter": "python",
   "pygments_lexer": "ipython3",
   "version": "3.12.3"
  }
 },
 "nbformat": 4,
 "nbformat_minor": 5
}
